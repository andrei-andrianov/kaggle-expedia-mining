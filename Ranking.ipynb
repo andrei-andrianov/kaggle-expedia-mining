{
 "cells": [
  {
   "cell_type": "markdown",
   "metadata": {},
   "source": [
    "## Imports"
   ]
  },
  {
   "cell_type": "code",
   "execution_count": 10,
   "metadata": {},
   "outputs": [],
   "source": [
    "import pandas as pd\n",
    "import numpy as np\n",
    "from collections import Counter, OrderedDict\n",
    "from xgboost import XGBRanker, XGBClassifier\n",
    "from sklearn.preprocessing import StandardScaler\n",
    "from sklearn.model_selection import train_test_split\n",
    "from sklearn.utils import shuffle\n"
   ]
  },
  {
   "cell_type": "markdown",
   "metadata": {},
   "source": [
    "## Ranking with XGBoost"
   ]
  },
  {
   "cell_type": "code",
   "execution_count": 3,
   "metadata": {},
   "outputs": [
    {
     "name": "stdout",
     "output_type": "stream",
     "text": [
      "CPU times: user 26.7 s, sys: 7.35 s, total: 34.1 s\n",
      "Wall time: 33.2 s\n"
     ]
    }
   ],
   "source": [
    "%%time\n",
    "df_train = pd.read_csv('~/Desktop/DMT/train_reduced.csv', index_col=0)\n",
    "# df_valid = pd.read_csv('~/Desktop/DMT/valid_pc.csv', index_col=0)\n",
    "df_test = pd.read_csv('~/Desktop/DMT/test_set_VU_DM.csv')"
   ]
  },
  {
   "cell_type": "code",
   "execution_count": 11,
   "metadata": {},
   "outputs": [],
   "source": [
    "df_train = shuffle(df_train)"
   ]
  },
  {
   "cell_type": "code",
   "execution_count": 16,
   "metadata": {},
   "outputs": [],
   "source": [
    "X_train, X_valid, y_train, y_valid = train_test_split(\n",
    "    df_train, df_train.click_bool, test_size=.33)"
   ]
  },
  {
   "cell_type": "code",
   "execution_count": 17,
   "metadata": {},
   "outputs": [],
   "source": [
    "groups_size_train = OrderedDict(\n",
    "    sorted(dict(X_train.srch_id.value_counts()).items()))\n",
    "\n",
    "groups_size_valid = OrderedDict(\n",
    "    sorted(dict(X_valid.srch_id.value_counts()).items()))\n"
   ]
  },
  {
   "cell_type": "markdown",
   "metadata": {},
   "source": [
    "The main idea is to normalize/standardize (mean = 0 and standard deviation = 1) all features before applying classification. Standard Scaler from scikit-learn will normalize the features individually so that each feature column have mean = 0 and standard deviation = 1.\n",
    "\n",
    "[Importance of Feature Scaling](https://scikit-learn.org/stable/auto_examples/preprocessing/plot_scaling_importance.html#sphx-glr-auto-examples-preprocessing-plot-scaling-importance-py)"
   ]
  },
  {
   "cell_type": "code",
   "execution_count": 18,
   "metadata": {},
   "outputs": [],
   "source": [
    "# Normalizing training set\n",
    "\n",
    "model = StandardScaler()\n",
    "y_train = X_train.click_bool.values\n",
    "\n",
    "X_train = X_train.drop([\n",
    "    'click_bool', 'gross_bookings_usd', 'booking_bool', 'date_time', 'position'\n",
    "],\n",
    "                        axis=1).values\n",
    "\n",
    "X_train = model.fit_transform(X_train)\n"
   ]
  },
  {
   "cell_type": "code",
   "execution_count": 20,
   "metadata": {},
   "outputs": [],
   "source": [
    "# Normalizing validation set\n",
    "\n",
    "y_valid = X_valid.click_bool.values\n",
    "\n",
    "X_valid = X_valid.drop([\n",
    "    'click_bool', 'gross_bookings_usd', 'booking_bool', 'date_time', 'position'\n",
    "],\n",
    "                        axis=1).values\n",
    "# X = X.replace([np.inf, -np.inf], np.nan).fillna(0).values\n",
    "\n",
    "X_valid = model.transform(X_valid)\n"
   ]
  },
  {
   "cell_type": "code",
   "execution_count": 21,
   "metadata": {},
   "outputs": [],
   "source": [
    "# Test set for predictions\n",
    "\n",
    "X_test = df_test.drop(['date_time'], axis=1).values\n",
    "\n",
    "X_test = model.transform(X_test)"
   ]
  },
  {
   "cell_type": "markdown",
   "metadata": {},
   "source": [
    "Using LambdaMART to perform list-wise ranking where Normalized Discounted Cumulative Gain (NDCG) is maximized, evaluation with NDCG@5"
   ]
  },
  {
   "cell_type": "code",
   "execution_count": 22,
   "metadata": {},
   "outputs": [
    {
     "data": {
      "text/plain": [
       "XGBRanker(base_score=0.5, booster='gbtree', colsample_bylevel=1,\n",
       "     colsample_bytree=1, gamma=0, learning_rate=0.1, max_delta_step=0,\n",
       "     max_depth=5, min_child_weight=1, missing=None, n_estimators=1500,\n",
       "     n_jobs=-1, nthread=None, objective='rank:ndcg', random_state=0,\n",
       "     reg_alpha=0, reg_lambda=1, scale_pos_weight=1, seed=None, silent=True,\n",
       "     subsample=1)"
      ]
     },
     "execution_count": 22,
     "metadata": {},
     "output_type": "execute_result"
    }
   ],
   "source": [
    "# Gradient boosting algorithm\n",
    "\n",
    "model = XGBRanker(\n",
    "    objective='rank:ndcg', learning_rate=.1, max_depth=5, n_estimators=1500)\n",
    "\n",
    "model.fit(\n",
    "    X_train,\n",
    "    y_train,\n",
    "    group=list(groups_size_train.values()),\n",
    "    eval_metric='ndcg@5',\n",
    "    eval_set=[(X_train, y_train), (X_valid, y_valid)],\n",
    "    eval_group=[list(groups_size_train.values()),\n",
    "                list(groups_size_valid.values())],\n",
    "    early_stopping_rounds=100)\n"
   ]
  },
  {
   "cell_type": "code",
   "execution_count": 23,
   "metadata": {},
   "outputs": [
    {
     "data": {
      "text/plain": [
       "0.981743"
      ]
     },
     "execution_count": 23,
     "metadata": {},
     "output_type": "execute_result"
    }
   ],
   "source": [
    "model.best_score"
   ]
  },
  {
   "cell_type": "code",
   "execution_count": 24,
   "metadata": {},
   "outputs": [],
   "source": [
    "y_pred = model.predict(X_test)"
   ]
  },
  {
   "cell_type": "code",
   "execution_count": 25,
   "metadata": {},
   "outputs": [],
   "source": [
    "df_pred = pd.DataFrame(y_pred, columns=['score'], index=df_test.index)"
   ]
  },
  {
   "cell_type": "code",
   "execution_count": 26,
   "metadata": {},
   "outputs": [],
   "source": [
    "df_pred['srch_id'] = df_test.srch_id\n",
    "df_pred['prop_id'] = df_test.prop_id"
   ]
  },
  {
   "cell_type": "code",
   "execution_count": 27,
   "metadata": {},
   "outputs": [],
   "source": [
    "df_pred.sort_values(['srch_id', 'score'], ascending=[True, False], inplace=True)"
   ]
  },
  {
   "cell_type": "code",
   "execution_count": 28,
   "metadata": {},
   "outputs": [],
   "source": [
    "df_pred.drop(['score'], axis=1, inplace=True)\n",
    "df_pred.reset_index(drop=True, inplace=True)"
   ]
  },
  {
   "cell_type": "code",
   "execution_count": 30,
   "metadata": {},
   "outputs": [],
   "source": [
    "df_pred.to_csv('~/Desktop/DMT/submission03.csv', index=False)"
   ]
  }
 ],
 "metadata": {
  "kernelspec": {
   "display_name": "Python 3",
   "language": "python",
   "name": "python3"
  },
  "language_info": {
   "codemirror_mode": {
    "name": "ipython",
    "version": 3
   },
   "file_extension": ".py",
   "mimetype": "text/x-python",
   "name": "python",
   "nbconvert_exporter": "python",
   "pygments_lexer": "ipython3",
   "version": "3.7.2"
  }
 },
 "nbformat": 4,
 "nbformat_minor": 2
}
