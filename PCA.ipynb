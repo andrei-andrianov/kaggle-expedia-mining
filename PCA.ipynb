{
 "cells": [
  {
   "cell_type": "markdown",
   "metadata": {},
   "source": [
    "## Imports"
   ]
  },
  {
   "cell_type": "code",
   "execution_count": 1,
   "metadata": {},
   "outputs": [],
   "source": [
    "import pandas as pd\n",
    "import numpy as np\n",
    "from collections import Counter\n",
    "import seaborn as sns\n",
    "import matplotlib.pyplot as plt\n",
    "from sklearn.decomposition import PCA\n"
   ]
  },
  {
   "cell_type": "markdown",
   "metadata": {},
   "source": [
    "## Loading"
   ]
  },
  {
   "cell_type": "code",
   "execution_count": 48,
   "metadata": {},
   "outputs": [
    {
     "name": "stdout",
     "output_type": "stream",
     "text": [
      "CPU times: user 27 s, sys: 7.29 s, total: 34.3 s\n",
      "Wall time: 34.8 s\n"
     ]
    }
   ],
   "source": [
    "%%time\n",
    "df_train = pd.read_csv('~/Desktop/DMT/train_2_fixed.csv', index_col=0)\n",
    "df_valid = pd.read_csv('~/Desktop/DMT/validation_2.csv', index_col=0)\n",
    "df_test = pd.read_csv('~/Desktop/DMT/test_set_VU_DM.csv')"
   ]
  },
  {
   "cell_type": "markdown",
   "metadata": {},
   "source": [
    "## Dimensionality rediction with PCA"
   ]
  },
  {
   "cell_type": "code",
   "execution_count": 3,
   "metadata": {},
   "outputs": [
    {
     "data": {
      "text/plain": [
       "Index(['comp1_rate', 'comp1_inv', 'comp1_rate_percent_diff', 'comp2_rate',\n",
       "       'comp2_inv', 'comp2_rate_percent_diff', 'comp3_rate', 'comp3_inv',\n",
       "       'comp3_rate_percent_diff', 'comp4_rate', 'comp4_inv',\n",
       "       'comp4_rate_percent_diff', 'comp5_rate', 'comp5_inv',\n",
       "       'comp5_rate_percent_diff', 'comp6_rate', 'comp6_inv',\n",
       "       'comp6_rate_percent_diff', 'comp7_rate', 'comp7_inv',\n",
       "       'comp7_rate_percent_diff', 'comp8_rate', 'comp8_inv',\n",
       "       'comp8_rate_percent_diff'],\n",
       "      dtype='object')"
      ]
     },
     "execution_count": 3,
     "metadata": {},
     "output_type": "execute_result"
    }
   ],
   "source": [
    "cols = df_train.columns[27:51]\n",
    "cols"
   ]
  },
  {
   "cell_type": "code",
   "execution_count": 23,
   "metadata": {},
   "outputs": [
    {
     "name": "stdout",
     "output_type": "stream",
     "text": [
      "<class 'pandas.core.frame.DataFrame'>\n",
      "Int64Index: 278680 entries, 1 to 278686\n",
      "Data columns (total 24 columns):\n",
      "comp1_rate                 278680 non-null float64\n",
      "comp1_inv                  278680 non-null float64\n",
      "comp1_rate_percent_diff    278680 non-null float64\n",
      "comp2_rate                 278680 non-null float64\n",
      "comp2_inv                  278680 non-null float64\n",
      "comp2_rate_percent_diff    278680 non-null float64\n",
      "comp3_rate                 278680 non-null float64\n",
      "comp3_inv                  278680 non-null float64\n",
      "comp3_rate_percent_diff    278680 non-null float64\n",
      "comp4_rate                 278680 non-null float64\n",
      "comp4_inv                  278680 non-null float64\n",
      "comp4_rate_percent_diff    278680 non-null float64\n",
      "comp5_rate                 278680 non-null float64\n",
      "comp5_inv                  278680 non-null float64\n",
      "comp5_rate_percent_diff    278680 non-null float64\n",
      "comp6_rate                 278680 non-null float64\n",
      "comp6_inv                  278680 non-null float64\n",
      "comp6_rate_percent_diff    278680 non-null float64\n",
      "comp7_rate                 278680 non-null float64\n",
      "comp7_inv                  278680 non-null float64\n",
      "comp7_rate_percent_diff    278680 non-null float64\n",
      "comp8_rate                 278680 non-null float64\n",
      "comp8_inv                  278680 non-null float64\n",
      "comp8_rate_percent_diff    278680 non-null float64\n",
      "dtypes: float64(24)\n",
      "memory usage: 53.2 MB\n"
     ]
    }
   ],
   "source": [
    "X = df_train[cols].fillna(0)\n",
    "X.info()"
   ]
  },
  {
   "cell_type": "code",
   "execution_count": 24,
   "metadata": {},
   "outputs": [
    {
     "data": {
      "text/plain": [
       "PCA(copy=True, iterated_power='auto', n_components=None, random_state=None,\n",
       "  svd_solver='auto', tol=0.0, whiten=False)"
      ]
     },
     "execution_count": 24,
     "metadata": {},
     "output_type": "execute_result"
    }
   ],
   "source": [
    "model = PCA()\n",
    "model.fit(X)"
   ]
  },
  {
   "cell_type": "code",
   "execution_count": 25,
   "metadata": {},
   "outputs": [
    {
     "data": {
      "text/plain": [
       "array([9.07422373e-01, 6.05295579e-02, 3.00320304e-02, 1.26086658e-03,\n",
       "       3.41754137e-04, 2.10918182e-04, 1.57038238e-04, 4.42946262e-05,\n",
       "       3.44005662e-07, 1.84217175e-07, 1.14360109e-07, 9.78704428e-08,\n",
       "       8.60328617e-08, 6.16968034e-08, 5.35199532e-08, 4.81624942e-08,\n",
       "       4.29698869e-08, 3.16594534e-08, 2.95487217e-08, 2.36801080e-08,\n",
       "       1.85476751e-08, 1.81860201e-08, 9.57731248e-09, 2.81968130e-09])"
      ]
     },
     "execution_count": 25,
     "metadata": {},
     "output_type": "execute_result"
    }
   ],
   "source": [
    "model.explained_variance_ratio_"
   ]
  },
  {
   "cell_type": "code",
   "execution_count": 26,
   "metadata": {},
   "outputs": [],
   "source": [
    "sns.set(\n",
    "    style='whitegrid',\n",
    "    palette='Set2',\n",
    "    font_scale=1.4,\n",
    "    rc={\"figure.figsize\": [10, 6]})\n"
   ]
  },
  {
   "cell_type": "code",
   "execution_count": 27,
   "metadata": {},
   "outputs": [
    {
     "data": {
      "image/png": "[encoded data removed]",
      "text/plain": [
       "<Figure size 720x432 with 1 Axes>"
      ]
     },
     "metadata": {},
     "output_type": "display_data"
    }
   ],
   "source": [
    "sns.lineplot(data=np.cumsum(model.explained_variance_ratio_))\n",
    "plt.xlabel('Number of Components')\n",
    "plt.ylabel('Variance (%)')\n",
    "plt.title('PCA Variance')\n",
    "plt.show()\n"
   ]
  },
  {
   "cell_type": "code",
   "execution_count": 28,
   "metadata": {},
   "outputs": [
    {
     "data": {
      "text/html": [
       "<div>\n",
       "<style scoped>\n",
       "    .dataframe tbody tr th:only-of-type {\n",
       "        vertical-align: middle;\n",
       "    }\n",
       "\n",
       "    .dataframe tbody tr th {\n",
       "        vertical-align: top;\n",
       "    }\n",
       "\n",
       "    .dataframe thead th {\n",
       "        text-align: right;\n",
       "    }\n",
       "</style>\n",
       "<table border=\"1\" class=\"dataframe\">\n",
       "  <thead>\n",
       "    <tr style=\"text-align: right;\">\n",
       "      <th></th>\n",
       "      <th>PC1</th>\n",
       "      <th>PC2</th>\n",
       "      <th>PC3</th>\n",
       "    </tr>\n",
       "  </thead>\n",
       "  <tbody>\n",
       "    <tr>\n",
       "      <th>1</th>\n",
       "      <td>-3.402822</td>\n",
       "      <td>-4.684602</td>\n",
       "      <td>-2.664463</td>\n",
       "    </tr>\n",
       "    <tr>\n",
       "      <th>2</th>\n",
       "      <td>-3.401969</td>\n",
       "      <td>-4.694467</td>\n",
       "      <td>7.189917</td>\n",
       "    </tr>\n",
       "    <tr>\n",
       "      <th>3</th>\n",
       "      <td>-3.402822</td>\n",
       "      <td>-4.684602</td>\n",
       "      <td>-2.664463</td>\n",
       "    </tr>\n",
       "    <tr>\n",
       "      <th>4</th>\n",
       "      <td>-3.402822</td>\n",
       "      <td>-4.684602</td>\n",
       "      <td>-2.664463</td>\n",
       "    </tr>\n",
       "    <tr>\n",
       "      <th>5</th>\n",
       "      <td>-3.402822</td>\n",
       "      <td>-4.684602</td>\n",
       "      <td>-2.664463</td>\n",
       "    </tr>\n",
       "  </tbody>\n",
       "</table>\n",
       "</div>"
      ],
      "text/plain": [
       "        PC1       PC2       PC3\n",
       "1 -3.402822 -4.684602 -2.664463\n",
       "2 -3.401969 -4.694467  7.189917\n",
       "3 -3.402822 -4.684602 -2.664463\n",
       "4 -3.402822 -4.684602 -2.664463\n",
       "5 -3.402822 -4.684602 -2.664463"
      ]
     },
     "execution_count": 28,
     "metadata": {},
     "output_type": "execute_result"
    }
   ],
   "source": [
    "model = PCA(.99)#n=3\n",
    "model.fit(X)\n",
    "X = pd.DataFrame(\n",
    "    model.transform(X),\n",
    "    columns=['PC1', 'PC2', 'PC3'],\n",
    "    index=df_train.index)\n",
    "X.head()\n"
   ]
  },
  {
   "cell_type": "code",
   "execution_count": 29,
   "metadata": {},
   "outputs": [],
   "source": [
    "df_train.drop(cols, axis=1, inplace=True)\n",
    "df_train = df_train.join(X)\n"
   ]
  },
  {
   "cell_type": "code",
   "execution_count": 30,
   "metadata": {},
   "outputs": [
    {
     "name": "stdout",
     "output_type": "stream",
     "text": [
      "<class 'pandas.core.frame.DataFrame'>\n",
      "Int64Index: 278680 entries, 1 to 278686\n",
      "Data columns (total 33 columns):\n",
      "srch_id                        278680 non-null int64\n",
      "date_time                      278680 non-null object\n",
      "site_id                        278680 non-null int64\n",
      "visitor_location_country_id    278680 non-null int64\n",
      "visitor_hist_starrating        14484 non-null float64\n",
      "visitor_hist_adr_usd           14542 non-null float64\n",
      "prop_country_id                278680 non-null int64\n",
      "prop_id                        278680 non-null int64\n",
      "prop_starrating                278680 non-null int64\n",
      "prop_review_score              278238 non-null float64\n",
      "prop_brand_bool                278680 non-null int64\n",
      "prop_location_score1           278680 non-null float64\n",
      "prop_location_score2           228834 non-null float64\n",
      "prop_log_historical_price      278680 non-null float64\n",
      "position                       278680 non-null int64\n",
      "price_usd                      278680 non-null float64\n",
      "promotion_flag                 278680 non-null int64\n",
      "srch_destination_id            278680 non-null int64\n",
      "srch_length_of_stay            278680 non-null int64\n",
      "srch_booking_window            278680 non-null int64\n",
      "srch_adults_count              278680 non-null int64\n",
      "srch_children_count            278680 non-null int64\n",
      "srch_room_count                278680 non-null int64\n",
      "srch_saturday_night_bool       278680 non-null int64\n",
      "srch_query_affinity_score      17512 non-null float64\n",
      "orig_destination_distance      185892 non-null float64\n",
      "random_bool                    278680 non-null int64\n",
      "click_bool                     278680 non-null int64\n",
      "gross_bookings_usd             92945 non-null float64\n",
      "booking_bool                   278680 non-null int64\n",
      "PC1                            278680 non-null float64\n",
      "PC2                            278680 non-null float64\n",
      "PC3                            278680 non-null float64\n",
      "dtypes: float64(13), int64(19), object(1)\n",
      "memory usage: 82.3+ MB\n"
     ]
    }
   ],
   "source": [
    "df_train.info()"
   ]
  },
  {
   "cell_type": "code",
   "execution_count": 31,
   "metadata": {},
   "outputs": [],
   "source": [
    "df_train.to_csv('~/Desktop/DMT/train_pc.csv')"
   ]
  },
  {
   "cell_type": "markdown",
   "metadata": {},
   "source": [
    "## Transform validation set"
   ]
  },
  {
   "cell_type": "markdown",
   "metadata": {},
   "source": [
    "transform validation set with PCA model previously fit on train with n=4"
   ]
  },
  {
   "cell_type": "code",
   "execution_count": 32,
   "metadata": {},
   "outputs": [
    {
     "data": {
      "text/html": [
       "<div>\n",
       "<style scoped>\n",
       "    .dataframe tbody tr th:only-of-type {\n",
       "        vertical-align: middle;\n",
       "    }\n",
       "\n",
       "    .dataframe tbody tr th {\n",
       "        vertical-align: top;\n",
       "    }\n",
       "\n",
       "    .dataframe thead th {\n",
       "        text-align: right;\n",
       "    }\n",
       "</style>\n",
       "<table border=\"1\" class=\"dataframe\">\n",
       "  <thead>\n",
       "    <tr style=\"text-align: right;\">\n",
       "      <th></th>\n",
       "      <th>comp1_rate</th>\n",
       "      <th>comp1_inv</th>\n",
       "      <th>comp1_rate_percent_diff</th>\n",
       "      <th>comp2_rate</th>\n",
       "      <th>comp2_inv</th>\n",
       "      <th>comp2_rate_percent_diff</th>\n",
       "      <th>comp3_rate</th>\n",
       "      <th>comp3_inv</th>\n",
       "      <th>comp3_rate_percent_diff</th>\n",
       "      <th>comp4_rate</th>\n",
       "      <th>...</th>\n",
       "      <th>comp5_rate_percent_diff</th>\n",
       "      <th>comp6_rate</th>\n",
       "      <th>comp6_inv</th>\n",
       "      <th>comp6_rate_percent_diff</th>\n",
       "      <th>comp7_rate</th>\n",
       "      <th>comp7_inv</th>\n",
       "      <th>comp7_rate_percent_diff</th>\n",
       "      <th>comp8_rate</th>\n",
       "      <th>comp8_inv</th>\n",
       "      <th>comp8_rate_percent_diff</th>\n",
       "    </tr>\n",
       "  </thead>\n",
       "  <tbody>\n",
       "    <tr>\n",
       "      <th>3460672</th>\n",
       "      <td>0.0</td>\n",
       "      <td>0.0</td>\n",
       "      <td>0.0</td>\n",
       "      <td>0.0</td>\n",
       "      <td>0.0</td>\n",
       "      <td>0.0</td>\n",
       "      <td>0.0</td>\n",
       "      <td>0.0</td>\n",
       "      <td>0.0</td>\n",
       "      <td>0.0</td>\n",
       "      <td>...</td>\n",
       "      <td>0.0</td>\n",
       "      <td>0.0</td>\n",
       "      <td>0.0</td>\n",
       "      <td>0.0</td>\n",
       "      <td>0.0</td>\n",
       "      <td>0.0</td>\n",
       "      <td>0.0</td>\n",
       "      <td>0.0</td>\n",
       "      <td>0.0</td>\n",
       "      <td>0.0</td>\n",
       "    </tr>\n",
       "    <tr>\n",
       "      <th>3460673</th>\n",
       "      <td>0.0</td>\n",
       "      <td>0.0</td>\n",
       "      <td>0.0</td>\n",
       "      <td>0.0</td>\n",
       "      <td>0.0</td>\n",
       "      <td>0.0</td>\n",
       "      <td>0.0</td>\n",
       "      <td>0.0</td>\n",
       "      <td>0.0</td>\n",
       "      <td>0.0</td>\n",
       "      <td>...</td>\n",
       "      <td>20.0</td>\n",
       "      <td>0.0</td>\n",
       "      <td>0.0</td>\n",
       "      <td>0.0</td>\n",
       "      <td>0.0</td>\n",
       "      <td>0.0</td>\n",
       "      <td>24.0</td>\n",
       "      <td>0.0</td>\n",
       "      <td>0.0</td>\n",
       "      <td>0.0</td>\n",
       "    </tr>\n",
       "    <tr>\n",
       "      <th>3460674</th>\n",
       "      <td>0.0</td>\n",
       "      <td>0.0</td>\n",
       "      <td>0.0</td>\n",
       "      <td>0.0</td>\n",
       "      <td>0.0</td>\n",
       "      <td>0.0</td>\n",
       "      <td>0.0</td>\n",
       "      <td>0.0</td>\n",
       "      <td>0.0</td>\n",
       "      <td>0.0</td>\n",
       "      <td>...</td>\n",
       "      <td>0.0</td>\n",
       "      <td>0.0</td>\n",
       "      <td>0.0</td>\n",
       "      <td>0.0</td>\n",
       "      <td>0.0</td>\n",
       "      <td>0.0</td>\n",
       "      <td>0.0</td>\n",
       "      <td>0.0</td>\n",
       "      <td>0.0</td>\n",
       "      <td>0.0</td>\n",
       "    </tr>\n",
       "    <tr>\n",
       "      <th>3460675</th>\n",
       "      <td>0.0</td>\n",
       "      <td>0.0</td>\n",
       "      <td>0.0</td>\n",
       "      <td>0.0</td>\n",
       "      <td>0.0</td>\n",
       "      <td>0.0</td>\n",
       "      <td>0.0</td>\n",
       "      <td>0.0</td>\n",
       "      <td>0.0</td>\n",
       "      <td>0.0</td>\n",
       "      <td>...</td>\n",
       "      <td>0.0</td>\n",
       "      <td>0.0</td>\n",
       "      <td>0.0</td>\n",
       "      <td>0.0</td>\n",
       "      <td>1.0</td>\n",
       "      <td>0.0</td>\n",
       "      <td>4.0</td>\n",
       "      <td>0.0</td>\n",
       "      <td>0.0</td>\n",
       "      <td>0.0</td>\n",
       "    </tr>\n",
       "    <tr>\n",
       "      <th>3460676</th>\n",
       "      <td>0.0</td>\n",
       "      <td>0.0</td>\n",
       "      <td>0.0</td>\n",
       "      <td>0.0</td>\n",
       "      <td>0.0</td>\n",
       "      <td>0.0</td>\n",
       "      <td>0.0</td>\n",
       "      <td>0.0</td>\n",
       "      <td>0.0</td>\n",
       "      <td>0.0</td>\n",
       "      <td>...</td>\n",
       "      <td>0.0</td>\n",
       "      <td>0.0</td>\n",
       "      <td>0.0</td>\n",
       "      <td>0.0</td>\n",
       "      <td>0.0</td>\n",
       "      <td>0.0</td>\n",
       "      <td>0.0</td>\n",
       "      <td>0.0</td>\n",
       "      <td>0.0</td>\n",
       "      <td>0.0</td>\n",
       "    </tr>\n",
       "  </tbody>\n",
       "</table>\n",
       "<p>5 rows × 24 columns</p>\n",
       "</div>"
      ],
      "text/plain": [
       "         comp1_rate  comp1_inv  comp1_rate_percent_diff  comp2_rate  \\\n",
       "3460672         0.0        0.0                      0.0         0.0   \n",
       "3460673         0.0        0.0                      0.0         0.0   \n",
       "3460674         0.0        0.0                      0.0         0.0   \n",
       "3460675         0.0        0.0                      0.0         0.0   \n",
       "3460676         0.0        0.0                      0.0         0.0   \n",
       "\n",
       "         comp2_inv  comp2_rate_percent_diff  comp3_rate  comp3_inv  \\\n",
       "3460672        0.0                      0.0         0.0        0.0   \n",
       "3460673        0.0                      0.0         0.0        0.0   \n",
       "3460674        0.0                      0.0         0.0        0.0   \n",
       "3460675        0.0                      0.0         0.0        0.0   \n",
       "3460676        0.0                      0.0         0.0        0.0   \n",
       "\n",
       "         comp3_rate_percent_diff  comp4_rate           ...             \\\n",
       "3460672                      0.0         0.0           ...              \n",
       "3460673                      0.0         0.0           ...              \n",
       "3460674                      0.0         0.0           ...              \n",
       "3460675                      0.0         0.0           ...              \n",
       "3460676                      0.0         0.0           ...              \n",
       "\n",
       "         comp5_rate_percent_diff  comp6_rate  comp6_inv  \\\n",
       "3460672                      0.0         0.0        0.0   \n",
       "3460673                     20.0         0.0        0.0   \n",
       "3460674                      0.0         0.0        0.0   \n",
       "3460675                      0.0         0.0        0.0   \n",
       "3460676                      0.0         0.0        0.0   \n",
       "\n",
       "         comp6_rate_percent_diff  comp7_rate  comp7_inv  \\\n",
       "3460672                      0.0         0.0        0.0   \n",
       "3460673                      0.0         0.0        0.0   \n",
       "3460674                      0.0         0.0        0.0   \n",
       "3460675                      0.0         1.0        0.0   \n",
       "3460676                      0.0         0.0        0.0   \n",
       "\n",
       "         comp7_rate_percent_diff  comp8_rate  comp8_inv  \\\n",
       "3460672                      0.0         0.0        0.0   \n",
       "3460673                     24.0         0.0        0.0   \n",
       "3460674                      0.0         0.0        0.0   \n",
       "3460675                      4.0         0.0        0.0   \n",
       "3460676                      0.0         0.0        0.0   \n",
       "\n",
       "         comp8_rate_percent_diff  \n",
       "3460672                      0.0  \n",
       "3460673                      0.0  \n",
       "3460674                      0.0  \n",
       "3460675                      0.0  \n",
       "3460676                      0.0  \n",
       "\n",
       "[5 rows x 24 columns]"
      ]
     },
     "execution_count": 32,
     "metadata": {},
     "output_type": "execute_result"
    }
   ],
   "source": [
    "X = df_valid[cols].fillna(0)\n",
    "X.info()"
   ]
  },
  {
   "cell_type": "code",
   "execution_count": 33,
   "metadata": {},
   "outputs": [
    {
     "data": {
      "text/html": [
       "<div>\n",
       "<style scoped>\n",
       "    .dataframe tbody tr th:only-of-type {\n",
       "        vertical-align: middle;\n",
       "    }\n",
       "\n",
       "    .dataframe tbody tr th {\n",
       "        vertical-align: top;\n",
       "    }\n",
       "\n",
       "    .dataframe thead th {\n",
       "        text-align: right;\n",
       "    }\n",
       "</style>\n",
       "<table border=\"1\" class=\"dataframe\">\n",
       "  <thead>\n",
       "    <tr style=\"text-align: right;\">\n",
       "      <th></th>\n",
       "      <th>PC1</th>\n",
       "      <th>PC2</th>\n",
       "      <th>PC3</th>\n",
       "    </tr>\n",
       "  </thead>\n",
       "  <tbody>\n",
       "    <tr>\n",
       "      <th>3460672</th>\n",
       "      <td>-3.402822</td>\n",
       "      <td>-4.684602</td>\n",
       "      <td>-2.664463</td>\n",
       "    </tr>\n",
       "    <tr>\n",
       "      <th>3460673</th>\n",
       "      <td>-3.401066</td>\n",
       "      <td>-4.648624</td>\n",
       "      <td>-2.614532</td>\n",
       "    </tr>\n",
       "    <tr>\n",
       "      <th>3460674</th>\n",
       "      <td>-3.402822</td>\n",
       "      <td>-4.684602</td>\n",
       "      <td>-2.664463</td>\n",
       "    </tr>\n",
       "    <tr>\n",
       "      <th>3460675</th>\n",
       "      <td>-3.402837</td>\n",
       "      <td>-4.680395</td>\n",
       "      <td>-2.664808</td>\n",
       "    </tr>\n",
       "    <tr>\n",
       "      <th>3460676</th>\n",
       "      <td>-3.402822</td>\n",
       "      <td>-4.684602</td>\n",
       "      <td>-2.664463</td>\n",
       "    </tr>\n",
       "  </tbody>\n",
       "</table>\n",
       "</div>"
      ],
      "text/plain": [
       "              PC1       PC2       PC3\n",
       "3460672 -3.402822 -4.684602 -2.664463\n",
       "3460673 -3.401066 -4.648624 -2.614532\n",
       "3460674 -3.402822 -4.684602 -2.664463\n",
       "3460675 -3.402837 -4.680395 -2.664808\n",
       "3460676 -3.402822 -4.684602 -2.664463"
      ]
     },
     "execution_count": 33,
     "metadata": {},
     "output_type": "execute_result"
    }
   ],
   "source": [
    "X = pd.DataFrame(\n",
    "    model.transform(X),\n",
    "    columns=['PC1', 'PC2', 'PC3'],\n",
    "    index=df_valid.index)\n",
    "X.head()"
   ]
  },
  {
   "cell_type": "code",
   "execution_count": 36,
   "metadata": {},
   "outputs": [],
   "source": [
    "df_valid.drop(cols, axis=1, inplace=True)\n",
    "df_valid = df_valid.join(X)\n"
   ]
  },
  {
   "cell_type": "code",
   "execution_count": 37,
   "metadata": {},
   "outputs": [],
   "source": [
    "df_valid.to_csv('~/Desktop/DMT/valid_pc.csv')"
   ]
  },
  {
   "cell_type": "markdown",
   "metadata": {},
   "source": [
    "## Transform test set\n",
    "\n",
    "We transform the test set in the same fashion"
   ]
  },
  {
   "cell_type": "code",
   "execution_count": 49,
   "metadata": {},
   "outputs": [
    {
     "name": "stdout",
     "output_type": "stream",
     "text": [
      "<class 'pandas.core.frame.DataFrame'>\n",
      "RangeIndex: 4959183 entries, 0 to 4959182\n",
      "Data columns (total 24 columns):\n",
      "comp1_rate                 float64\n",
      "comp1_inv                  float64\n",
      "comp1_rate_percent_diff    float64\n",
      "comp2_rate                 float64\n",
      "comp2_inv                  float64\n",
      "comp2_rate_percent_diff    float64\n",
      "comp3_rate                 float64\n",
      "comp3_inv                  float64\n",
      "comp3_rate_percent_diff    float64\n",
      "comp4_rate                 float64\n",
      "comp4_inv                  float64\n",
      "comp4_rate_percent_diff    float64\n",
      "comp5_rate                 float64\n",
      "comp5_inv                  float64\n",
      "comp5_rate_percent_diff    float64\n",
      "comp6_rate                 float64\n",
      "comp6_inv                  float64\n",
      "comp6_rate_percent_diff    float64\n",
      "comp7_rate                 float64\n",
      "comp7_inv                  float64\n",
      "comp7_rate_percent_diff    float64\n",
      "comp8_rate                 float64\n",
      "comp8_inv                  float64\n",
      "comp8_rate_percent_diff    float64\n",
      "dtypes: float64(24)\n",
      "memory usage: 908.1 MB\n"
     ]
    }
   ],
   "source": [
    "X = df_test[cols].fillna(0)\n",
    "X.info()"
   ]
  },
  {
   "cell_type": "code",
   "execution_count": 50,
   "metadata": {},
   "outputs": [
    {
     "data": {
      "text/html": [
       "<div>\n",
       "<style scoped>\n",
       "    .dataframe tbody tr th:only-of-type {\n",
       "        vertical-align: middle;\n",
       "    }\n",
       "\n",
       "    .dataframe tbody tr th {\n",
       "        vertical-align: top;\n",
       "    }\n",
       "\n",
       "    .dataframe thead th {\n",
       "        text-align: right;\n",
       "    }\n",
       "</style>\n",
       "<table border=\"1\" class=\"dataframe\">\n",
       "  <thead>\n",
       "    <tr style=\"text-align: right;\">\n",
       "      <th></th>\n",
       "      <th>PC1</th>\n",
       "      <th>PC2</th>\n",
       "      <th>PC3</th>\n",
       "    </tr>\n",
       "  </thead>\n",
       "  <tbody>\n",
       "    <tr>\n",
       "      <th>0</th>\n",
       "      <td>-3.402822</td>\n",
       "      <td>-4.684602</td>\n",
       "      <td>-2.664463</td>\n",
       "    </tr>\n",
       "    <tr>\n",
       "      <th>1</th>\n",
       "      <td>-3.402822</td>\n",
       "      <td>-4.684602</td>\n",
       "      <td>-2.664463</td>\n",
       "    </tr>\n",
       "    <tr>\n",
       "      <th>2</th>\n",
       "      <td>-3.401897</td>\n",
       "      <td>-4.679150</td>\n",
       "      <td>-2.638461</td>\n",
       "    </tr>\n",
       "    <tr>\n",
       "      <th>3</th>\n",
       "      <td>-3.402822</td>\n",
       "      <td>-4.684602</td>\n",
       "      <td>-2.664463</td>\n",
       "    </tr>\n",
       "    <tr>\n",
       "      <th>4</th>\n",
       "      <td>-3.402822</td>\n",
       "      <td>-4.684602</td>\n",
       "      <td>-2.664463</td>\n",
       "    </tr>\n",
       "  </tbody>\n",
       "</table>\n",
       "</div>"
      ],
      "text/plain": [
       "        PC1       PC2       PC3\n",
       "0 -3.402822 -4.684602 -2.664463\n",
       "1 -3.402822 -4.684602 -2.664463\n",
       "2 -3.401897 -4.679150 -2.638461\n",
       "3 -3.402822 -4.684602 -2.664463\n",
       "4 -3.402822 -4.684602 -2.664463"
      ]
     },
     "execution_count": 50,
     "metadata": {},
     "output_type": "execute_result"
    }
   ],
   "source": [
    "X = pd.DataFrame(\n",
    "    model.transform(X),\n",
    "    columns=['PC1', 'PC2', 'PC3'],\n",
    "    index=df_test.index)\n",
    "X.head()"
   ]
  },
  {
   "cell_type": "code",
   "execution_count": 51,
   "metadata": {},
   "outputs": [],
   "source": [
    "df_test.drop(cols, axis=1, inplace=True)\n",
    "df_test = df_test.join(X)"
   ]
  },
  {
   "cell_type": "code",
   "execution_count": 55,
   "metadata": {},
   "outputs": [
    {
     "name": "stdout",
     "output_type": "stream",
     "text": [
      "CPU times: user 1min 58s, sys: 1.33 s, total: 2min\n",
      "Wall time: 2min 1s\n"
     ]
    }
   ],
   "source": [
    "%%time\n",
    "df_test.to_csv('~/Desktop/DMT/test_pc.csv')"
   ]
  }
 ],
 "metadata": {
  "kernelspec": {
   "display_name": "Python 3",
   "language": "python",
   "name": "python3"
  },
  "language_info": {
   "codemirror_mode": {
    "name": "ipython",
    "version": 3
   },
   "file_extension": ".py",
   "mimetype": "text/x-python",
   "name": "python",
   "nbconvert_exporter": "python",
   "pygments_lexer": "ipython3",
   "version": "3.7.2"
  }
 },
 "nbformat": 4,
 "nbformat_minor": 2
}
